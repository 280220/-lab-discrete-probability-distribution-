{
 "cells": [
  {
   "cell_type": "markdown",
   "metadata": {},
   "source": [
    "# Before your start:\n",
    "\n",
    "    Read the README.md file\n",
    "    Comment as much as you can and use the resources (README.md file)\n",
    "    Happy learning!\n",
    "\n",
    "*Notes:* \n",
    "\n",
    "- Solve the questions with python.\n",
    "\n",
    "- Round the final answer to three decimal places."
   ]
  },
  {
   "cell_type": "markdown",
   "metadata": {},
   "source": [
    "## Bernoulli's Distribution\n",
    "\n",
    "In a basket containing 100 fruits, there are 60 apples and 40 oranges. \n",
    "\n",
    "A fruit is picked randomly from the basket. \n",
    "\n",
    "1. **What is the probability that the fruit is apple?**\n",
    "1. **What is the probability that it is an orange?**"
   ]
  },
  {
   "cell_type": "code",
   "execution_count": 51,
   "metadata": {},
   "outputs": [
    {
     "name": "stdout",
     "output_type": "stream",
     "text": [
      "0.6 0.4\n"
     ]
    }
   ],
   "source": [
    "\"\"\"\n",
    "Calculate:\n",
    "p = probability that the fruit is an apple \n",
    "q = probability that the fruit is an orange\n",
    "\"\"\"\n",
    "\n",
    "# your code here\n",
    "\n",
    "p = 60/100\n",
    "q = 1 - p\n",
    "\n",
    "print(p, q)"
   ]
  },
  {
   "cell_type": "markdown",
   "metadata": {},
   "source": [
    "Now we take a random sample of 20 fruits from the basket. After each fruit is taken, a new fruit of the same type is replaced in the basket. Therefore, every time we are taking 1 fruit from 100 fruits. \n",
    "\n",
    "1. **What is the probability that the first 5 fruits are all apples?**\n",
    "\n",
    "1. **What is the probability that the first 5 fruits are all apples and the next 15 fruits are all oranges?**\n",
    "\n",
    "You can include the `p` and `q` probabilities you previous calculated in your solution."
   ]
  },
  {
   "cell_type": "code",
   "execution_count": 52,
   "metadata": {},
   "outputs": [
    {
     "name": "stdout",
     "output_type": "stream",
     "text": [
      "0.07775999999999998 0.078\n"
     ]
    }
   ],
   "source": [
    "# your code here\n",
    "\n",
    "#What is the probability that the first 5 fruits are all apples?\n",
    "\n",
    "apples = p**5\n",
    "\n",
    "print(apples, round(apples, 3))"
   ]
  },
  {
   "cell_type": "code",
   "execution_count": 53,
   "metadata": {},
   "outputs": [
    {
     "name": "stdout",
     "output_type": "stream",
     "text": [
      "8.349416423424006e-08 0.0\n"
     ]
    }
   ],
   "source": [
    "#What is the probability that the first 5 fruits are all apples and the next 15 fruits are all oranges?\n",
    "\n",
    "apples_and_oranges = apples * (q**15)\n",
    "\n",
    "print(apples_and_oranges, round(apples_and_oranges, 3))"
   ]
  },
  {
   "cell_type": "markdown",
   "metadata": {},
   "source": [
    "## Binomial Distribution\n",
    "\n",
    "Similar to the above problem, this time again we randomly sample 20 fruits.\n",
    "\n",
    "**What is the probability that this time the sample contains 5 apples and 15 oranges?**\n",
    "\n",
    "Please note that this time the order of the fruits being picked does not matter."
   ]
  },
  {
   "cell_type": "code",
   "execution_count": 54,
   "metadata": {},
   "outputs": [],
   "source": [
    "from scipy import stats\n",
    "import numpy as np"
   ]
  },
  {
   "cell_type": "code",
   "execution_count": 55,
   "metadata": {},
   "outputs": [
    {
     "name": "stdout",
     "output_type": "stream",
     "text": [
      "The probability that 5 fruits picked out of 20 are apples is 0.0012944935222876511 or rounded 0.001.\n"
     ]
    }
   ],
   "source": [
    "# your code here\n",
    "\n",
    "n = 20\n",
    "p = 0.6\n",
    "\n",
    "print(f'The probability that 5 fruits picked out of 20 are apples is {stats.binom.pmf(5,20,.6)} or rounded {round(stats.binom.pmf(5,20,.6),3)}.')"
   ]
  },
  {
   "cell_type": "markdown",
   "metadata": {},
   "source": [
    "In the lesson we also discussed CDF (cumulative distribution function). In the context of the above problem, **what is the probability that less than 5 fruits picked are apples?**\n",
    "\n",
    "Write the formula and calculate the probability below."
   ]
  },
  {
   "cell_type": "code",
   "execution_count": 56,
   "metadata": {
    "scrolled": true
   },
   "outputs": [
    {
     "name": "stdout",
     "output_type": "stream",
     "text": [
      "The probability that less than 5 fruits picked out of 20 are apples is 0.0003170311211686301 or rounded 0.0.\n"
     ]
    }
   ],
   "source": [
    "# your code here\n",
    "\n",
    "print(f'The probability that less than 5 fruits picked out of 20 are apples is {stats.binom.cdf(4,20,.6)} or rounded {round(stats.binom.cdf(4,20,.6),3)}.')"
   ]
  },
  {
   "cell_type": "code",
   "execution_count": 57,
   "metadata": {},
   "outputs": [
    {
     "name": "stdout",
     "output_type": "stream",
     "text": [
      "The probability that 0 fruits are picked out of 20 fruits are apples is 1.099511627776003e-08.\n",
      "The probability that less than 0 fruits picked out of 20 are apples is 1.099511627776003e-08.\n",
      "The probability that 1 fruits are picked out of 20 fruits are apples is 3.298534883327999e-07.\n",
      "The probability that less than 1 fruits picked out of 20 are apples is 3.4084860461055993e-07.\n",
      "The probability that 2 fruits are picked out of 20 fruits are apples is 4.7004122087424025e-06.\n",
      "The probability that less than 2 fruits picked out of 20 are apples is 5.041260813352962e-06.\n",
      "The probability that 3 fruits are picked out of 20 fruits are apples is 4.230370987868157e-05.\n",
      "The probability that less than 3 fruits picked out of 20 are apples is 4.734497069203454e-05.\n",
      "The probability that 4 fruits are picked out of 20 fruits are apples is 0.0002696861504765946.\n",
      "The probability that less than 4 fruits picked out of 20 are apples is 0.0003170311211686291.\n",
      "The probability that 5 fruits are picked out of 20 fruits are apples is 0.0012944935222876511.\n",
      "The probability that less than 5 fruits picked out of 20 are apples is 0.0016115246434562803.\n",
      "The probability that 6 fruits are picked out of 20 fruits are apples is 0.004854350708578698.\n",
      "The probability that less than 6 fruits picked out of 20 are apples is 0.006465875352034978.\n",
      "The probability that 7 fruits are picked out of 20 fruits are apples is 0.014563052125736161.\n",
      "The probability that less than 7 fruits picked out of 20 are apples is 0.021028927477771138.\n",
      "The probability that 8 fruits are picked out of 20 fruits are apples is 0.035497439556481845.\n",
      "The probability that less than 8 fruits picked out of 20 are apples is 0.05652636703425298.\n",
      "The probability that 9 fruits are picked out of 20 fruits are apples is 0.07099487911296357.\n",
      "The probability that less than 9 fruits picked out of 20 are apples is 0.12752124614721655.\n",
      "The probability that 10 fruits are picked out of 20 fruits are apples is 0.11714155053639011.\n",
      "The probability that less than 10 fruits picked out of 20 are apples is 0.24466279668360666.\n",
      "The probability that 11 fruits are picked out of 20 fruits are apples is 0.15973847800416796.\n",
      "The probability that less than 11 fruits picked out of 20 are apples is 0.40440127468777465.\n",
      "The probability that 12 fruits are picked out of 20 fruits are apples is 0.17970578775468918.\n",
      "The probability that less than 12 fruits picked out of 20 are apples is 0.5841070624424638.\n",
      "The probability that 13 fruits are picked out of 20 fruits are apples is 0.16588226561971353.\n",
      "The probability that less than 13 fruits picked out of 20 are apples is 0.7499893280621773.\n",
      "The probability that 14 fruits are picked out of 20 fruits are apples is 0.1244116992147844.\n",
      "The probability that less than 14 fruits picked out of 20 are apples is 0.8744010272769618.\n",
      "The probability that 15 fruits are picked out of 20 fruits are apples is 0.07464701952887058.\n",
      "The probability that less than 15 fruits picked out of 20 are apples is 0.9490480468058323.\n",
      "The probability that 16 fruits are picked out of 20 fruits are apples is 0.034990790404158166.\n",
      "The probability that less than 16 fruits picked out of 20 are apples is 0.9840388372099905.\n",
      "The probability that 17 fruits are picked out of 20 fruits are apples is 0.012349690730879373.\n",
      "The probability that less than 17 fruits picked out of 20 are apples is 0.9963885279408699.\n",
      "The probability that 18 fruits are picked out of 20 fruits are apples is 0.0030874226827198427.\n",
      "The probability that less than 18 fruits picked out of 20 are apples is 0.9994759506235897.\n",
      "The probability that 19 fruits are picked out of 20 fruits are apples is 0.00048748779200839646.\n",
      "The probability that less than 19 fruits picked out of 20 are apples is 0.9999634384155981.\n",
      "The probability that 20 fruits are picked out of 20 fruits are apples is 3.656158440062977e-05.\n",
      "The probability that less than 20 fruits picked out of 20 are apples is 0.9999999999999988.\n"
     ]
    }
   ],
   "source": [
    "#For my further comprehension and to understand the relation pdf and cdf I did the following exercise:\n",
    "\n",
    "cumulative = 0\n",
    "for i in range (0,21):\n",
    "    print(f'The probability that {i} fruits are picked out of 20 fruits are apples is {stats.binom.pmf(i,20,.6)}.')\n",
    "    cumulative = cumulative + stats.binom.pmf(i,20,.6)\n",
    "    print(f'The probability that less than {i} fruits picked out of 20 are apples is {cumulative}.')"
   ]
  },
  {
   "cell_type": "markdown",
   "metadata": {},
   "source": [
    "**Plot the PDF (probability distributiom function) for the above binomial distribution.**\n",
    "\n",
    "*Hint: The range of x in a binomial distribution is from `0` to `n`.*"
   ]
  },
  {
   "cell_type": "code",
   "execution_count": 58,
   "metadata": {},
   "outputs": [],
   "source": [
    "import matplotlib.pyplot as plt"
   ]
  },
  {
   "cell_type": "code",
   "execution_count": 59,
   "metadata": {},
   "outputs": [
    {
     "data": {
      "image/png": "[encoded data removed]",
      "text/plain": [
       "<Figure size 720x504 with 1 Axes>"
      ]
     },
     "metadata": {
      "needs_background": "light"
     },
     "output_type": "display_data"
    }
   ],
   "source": [
    "# your code here\n",
    "\n",
    "x=np.arange(0,20)\n",
    "\n",
    "plt.figure(figsize =(10,7))\n",
    "plt.bar(x, stats.binom.pmf(x,n,p))\n",
    "\n",
    "# Please label the axes and give a title to the plot\n",
    "\n",
    "plt.title('Probability mass function')\n",
    "plt.xlabel('number of apples x')\n",
    "plt.ylabel('binomial probability distribution pmf');"
   ]
  },
  {
   "cell_type": "code",
   "execution_count": 60,
   "metadata": {},
   "outputs": [
    {
     "data": {
      "image/png": "[encoded data removed]",
      "text/plain": [
       "<Figure size 720x504 with 1 Axes>"
      ]
     },
     "metadata": {
      "needs_background": "light"
     },
     "output_type": "display_data"
    }
   ],
   "source": [
    "# For my further comprehension I also plotted the cumulative probability function in this context\n",
    "\n",
    "plt.figure(figsize =(10,7))\n",
    "plt.bar(x, stats.binom.cdf(x,n,p))\n",
    "\n",
    "plt.title('Cumulative distribution function')\n",
    "plt.xlabel('number of apples x')\n",
    "plt.ylabel('cumulative probability distribution cdf');"
   ]
  },
  {
   "cell_type": "markdown",
   "metadata": {},
   "source": [
    "## Poisson Distribution\n",
    "\n",
    "In this challenge you are required to use the Math library in python to solve the problems.\n",
    "\n",
    "In the UEFA champions league tournament, the average number of goals scored in a match is 2.3. \n",
    "\n",
    "**What is the probability that the number of goals scored in a match is 5?**\n",
    "\n",
    "*Hint: Use the exp() in the math library*\n",
    "\n",
    "And to calculate the factorial, you can use the following code:\n",
    "\n",
    "```python\n",
    "import math\n",
    "math.factorial(n) # n is the number you want to find the factorial of\n",
    "```"
   ]
  },
  {
   "cell_type": "code",
   "execution_count": 61,
   "metadata": {},
   "outputs": [],
   "source": [
    "import math"
   ]
  },
  {
   "cell_type": "code",
   "execution_count": 62,
   "metadata": {},
   "outputs": [
    {
     "name": "stdout",
     "output_type": "stream",
     "text": [
      "0.0537750255819468 0.054\n"
     ]
    }
   ],
   "source": [
    "# your code here\n",
    "\n",
    "n = 5\n",
    "mu = 2.3\n",
    "prob = (math.exp(-2.3)*mu**n)/math.factorial(n)\n",
    "\n",
    "print(prob, round(prob, 3))"
   ]
  },
  {
   "cell_type": "markdown",
   "metadata": {},
   "source": [
    "**Draw a poisson probability distribution plot for the number of goals to be between 0 to 10.**"
   ]
  },
  {
   "cell_type": "code",
   "execution_count": 64,
   "metadata": {},
   "outputs": [
    {
     "data": {
      "image/png": "[encoded data removed]",
      "text/plain": [
       "<Figure size 432x288 with 1 Axes>"
      ]
     },
     "metadata": {
      "needs_background": "light"
     },
     "output_type": "display_data"
    }
   ],
   "source": [
    "# your code here\n",
    "# Please label the axes and give a title to the plot\n",
    "\n",
    "mean, var, skew, kurt = stats.poisson.stats(mu, moments= 'mvsk')\n",
    "\n",
    "x = np.arange(0, 10, 1)\n",
    "\n",
    "plt.plot(x, stats.poisson.pmf(x, mu))\n",
    "\n",
    "plt.title('Poisson mass function')\n",
    "plt.xlabel('number of goals x')\n",
    "plt.ylabel('poisson probability distribution pmf');"
   ]
  }
 ],
 "metadata": {
  "kernelspec": {
   "display_name": "Python 3",
   "language": "python",
   "name": "python3"
  },
  "language_info": {
   "codemirror_mode": {
    "name": "ipython",
    "version": 3
   },
   "file_extension": ".py",
   "mimetype": "text/x-python",
   "name": "python",
   "nbconvert_exporter": "python",
   "pygments_lexer": "ipython3",
   "version": "3.7.9"
  }
 },
 "nbformat": 4,
 "nbformat_minor": 2
}
